{
  "nbformat": 4,
  "nbformat_minor": 0,
  "metadata": {
    "colab": {
      "provenance": []
    },
    "kernelspec": {
      "name": "python3",
      "display_name": "Python 3"
    },
    "language_info": {
      "name": "python"
    }
  },
  "cells": [
    {
      "cell_type": "code",
      "source": [
        "##  Automation Script 1: Move .jpg Files\n",
        "\n",
        "import os\n",
        "import shutil\n",
        "\n",
        "# Create folders\n",
        "source_folder = \"/content/sample_data/source_folder\"\n",
        "destination_folder = \"/content/sample_data/jpg_files\"\n",
        "\n",
        "#  Clean folders if already exist\n",
        "if os.path.exists(source_folder):\n",
        "    shutil.rmtree(source_folder)\n",
        "if os.path.exists(destination_folder):\n",
        "    shutil.rmtree(destination_folder)\n",
        "\n",
        "# Recreate folders\n",
        "os.makedirs(source_folder, exist_ok=True)\n",
        "os.makedirs(destination_folder, exist_ok=True)\n",
        "\n",
        "# Create sample files\n",
        "with open(f\"{source_folder}/image1.jpg\", \"w\") as f:\n",
        "    f.write(\"This is a .jpg file\")\n",
        "with open(f\"{source_folder}/doc1.txt\", \"w\") as f:\n",
        "    f.write(\"This is a .txt file\")\n",
        "\n",
        "# Move .jpg files\n",
        "for file in os.listdir(source_folder):\n",
        "    if file.endswith(\".jpg\"):\n",
        "        full_path = os.path.join(source_folder, file)\n",
        "        shutil.move(full_path, destination_folder)\n",
        "        print(f\"Moved: {file}\")\n",
        "\n",
        "print(\"All .jpg files moved.\")\n",
        "\n",
        "\n"
      ],
      "metadata": {
        "colab": {
          "base_uri": "https://localhost:8080/"
        },
        "id": "iyXma4Hf-aqs",
        "outputId": "6fdf9c02-8465-43e6-9a5f-7b8daa4258cc"
      },
      "execution_count": 17,
      "outputs": [
        {
          "output_type": "stream",
          "name": "stdout",
          "text": [
            "Moved: image1.jpg\n",
            "All .jpg files moved.\n"
          ]
        }
      ]
    },
    {
      "cell_type": "code",
      "execution_count": 18,
      "metadata": {
        "id": "yOIYV27k8-nM"
      },
      "outputs": [],
      "source": [
        "##  Automation Script 2: Extract Emails\n",
        "sample_text = \"\"\"\n",
        "Hello, my name is Jayashree. Please contact me at jayashree125@gmail.com.\n",
        "Also, cc to team_lead@codealpha.tech and hr@company.in for approvals.\n",
        "Ignore fake emails like test@ or admin@.\n",
        "\"\"\"\n",
        "\n",
        "with open(\"input.txt\", \"w\") as file:\n",
        "    file.write(sample_text)\n"
      ]
    },
    {
      "cell_type": "code",
      "source": [
        "import re\n",
        "with open(\"input.txt\", \"r\") as file:\n",
        "    text = file.read()\n",
        "\n",
        "emails = re.findall(r\"[a-zA-Z0-9._%+-]+@[a-zA-Z0-9.-]+\\.[a-zA-Z]{2,}\", text)\n",
        "\n",
        "print(\"📧 Emails Found:\")\n",
        "for email in emails:\n",
        "    print(email)\n"
      ],
      "metadata": {
        "colab": {
          "base_uri": "https://localhost:8080/"
        },
        "id": "EhJOKjiG9Gdr",
        "outputId": "1eadf2db-9e63-4ae3-c612-24c687e1b537"
      },
      "execution_count": 19,
      "outputs": [
        {
          "output_type": "stream",
          "name": "stdout",
          "text": [
            "📧 Emails Found:\n",
            "jayashree125@gmail.com\n",
            "team_lead@codealpha.tech\n",
            "hr@company.in\n"
          ]
        }
      ]
    },
    {
      "cell_type": "code",
      "source": [
        "with open(\"output_emails.txt\", \"w\") as file:\n",
        "    for email in emails:\n",
        "        file.write(email + \"\\n\")\n",
        "\n",
        "print(\"\\nEmails saved to 'output_emails.txt'\")\n"
      ],
      "metadata": {
        "colab": {
          "base_uri": "https://localhost:8080/"
        },
        "id": "UweXGg6y9KB9",
        "outputId": "9a8dfa8d-9259-4b3f-c40f-8ffee8870393"
      },
      "execution_count": 20,
      "outputs": [
        {
          "output_type": "stream",
          "name": "stdout",
          "text": [
            "\n",
            "Emails saved to 'output_emails.txt'\n"
          ]
        }
      ]
    },
    {
      "cell_type": "code",
      "source": [
        "## Automation Script 3: Scrape Webpage Title\n",
        "import requests\n",
        "from bs4 import BeautifulSoup\n",
        "\n",
        "url = \"https://en.wikipedia.org/wiki/Python_(programming_language)\"\n",
        "response = requests.get(url)\n",
        "soup = BeautifulSoup(response.content, \"html.parser\")\n",
        "\n",
        "title = soup.title.string.strip()\n",
        "print(f\"Title: {title}\")\n",
        "\n",
        "# Save title to file\n",
        "with open(\"webpage_title.txt\", \"w\") as file:\n",
        "    file.write(title)\n",
        "\n",
        "print(\"\\nTitle saved to 'webpage_title.txt'\")\n"
      ],
      "metadata": {
        "colab": {
          "base_uri": "https://localhost:8080/"
        },
        "id": "fake_2Wl9NBB",
        "outputId": "0507549f-67f1-42d9-91b3-ba641cbff05a"
      },
      "execution_count": 21,
      "outputs": [
        {
          "output_type": "stream",
          "name": "stdout",
          "text": [
            "Title: Python (programming language) - Wikipedia\n",
            "\n",
            "Title saved to 'webpage_title.txt'\n"
          ]
        }
      ]
    },
    {
      "cell_type": "code",
      "source": [],
      "metadata": {
        "id": "NT0yT9xV-_H5"
      },
      "execution_count": null,
      "outputs": []
    }
  ]
}